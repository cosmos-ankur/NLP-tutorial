{
  "nbformat": 4,
  "nbformat_minor": 0,
  "metadata": {
    "colab": {
      "name": "NLP1_stringformat",
      "provenance": []
    },
    "kernelspec": {
      "name": "python3",
      "display_name": "Python 3"
    }
  },
  "cells": [
    {
      "cell_type": "code",
      "metadata": {
        "id": "hhivnQhd4NzY",
        "colab_type": "code",
        "outputId": "42beacf4-00ab-42a2-cdac-0e15fb4070fb",
        "colab": {
          "base_uri": "https://localhost:8080/",
          "height": 34
        }
      },
      "source": [
        "print('Ankur Singh')"
      ],
      "execution_count": 0,
      "outputs": [
        {
          "output_type": "stream",
          "text": [
            "Ankur Singh\n"
          ],
          "name": "stdout"
        }
      ]
    },
    {
      "cell_type": "code",
      "metadata": {
        "id": "oPT1ZTNu5bjQ",
        "colab_type": "code",
        "colab": {
          "base_uri": "https://localhost:8080/",
          "height": 34
        },
        "outputId": "d34b2298-e887-4aa9-e7b8-e404920f2b7d"
      },
      "source": [
        "name = 'Ankur Singh'\n",
        "age = 20\n",
        "print('my name is {} and i am {} years old'.format(name,age ))"
      ],
      "execution_count": 2,
      "outputs": [
        {
          "output_type": "stream",
          "text": [
            "my name is Ankur Singh and i am 20 years old\n"
          ],
          "name": "stdout"
        }
      ]
    },
    {
      "cell_type": "code",
      "metadata": {
        "id": "f0eF9endC68h",
        "colab_type": "code",
        "colab": {
          "base_uri": "https://localhost:8080/",
          "height": 34
        },
        "outputId": "6601e58c-ac12-4573-944a-f662778380d3"
      },
      "source": [
        "print(f'i am {name}')"
      ],
      "execution_count": 3,
      "outputs": [
        {
          "output_type": "stream",
          "text": [
            "i am Ankur Singh\n"
          ],
          "name": "stdout"
        }
      ]
    },
    {
      "cell_type": "code",
      "metadata": {
        "id": "FqrzgQCLDYWC",
        "colab_type": "code",
        "colab": {
          "base_uri": "https://localhost:8080/",
          "height": 50
        },
        "outputId": "c6cc24c1-fe92-40d3-f622-5a6bc02f8c65"
      },
      "source": [
        "spam = ['ab','bc','cd','ef']\n",
        "print(f\"value of spam is {spam[2]}\")"
      ],
      "execution_count": 5,
      "outputs": [
        {
          "output_type": "stream",
          "text": [
            "value of spam is cd\n",
            "ERROR! Session/line number was not unique in database. History logging moved to new session 68\n"
          ],
          "name": "stdout"
        }
      ]
    },
    {
      "cell_type": "code",
      "metadata": {
        "id": "h943IBydFgWd",
        "colab_type": "code",
        "colab": {}
      },
      "source": [
        "college = [('Name','Branch','year'),\n",
        "            ('ANkit','cs','it'),\n",
        "            ('manoj','it','3')]"
      ],
      "execution_count": 0,
      "outputs": []
    },
    {
      "cell_type": "code",
      "metadata": {
        "id": "ZcXbBv5yLEL3",
        "colab_type": "code",
        "colab": {
          "base_uri": "https://localhost:8080/",
          "height": 67
        },
        "outputId": "27d2ba5a-5659-4670-a324-9a870ee4fe56"
      },
      "source": [
        "for data in college:\n",
        "  print(f\"Student name is {data[0]}\")"
      ],
      "execution_count": 8,
      "outputs": [
        {
          "output_type": "stream",
          "text": [
            "Student name is Name\n",
            "Student name is ANkit\n",
            "Student name is manoj\n"
          ],
          "name": "stdout"
        }
      ]
    },
    {
      "cell_type": "code",
      "metadata": {
        "id": "FojTiG-AL4l8",
        "colab_type": "code",
        "colab": {
          "base_uri": "https://localhost:8080/",
          "height": 67
        },
        "outputId": "c06d373e-0951-4ee9-cc82-9082f73b9721"
      },
      "source": [
        "for name,branch,year in college:\n",
        "  print(f\"{name:{10}},{branch:{40}},{year:{10}} \")"
      ],
      "execution_count": 11,
      "outputs": [
        {
          "output_type": "stream",
          "text": [
            "Name      ,Branch                                  ,year       \n",
            "ANkit     ,cs                                      ,it         \n",
            "manoj     ,it                                      ,3          \n"
          ],
          "name": "stdout"
        }
      ]
    },
    {
      "cell_type": "code",
      "metadata": {
        "id": "69agDAjAMkW_",
        "colab_type": "code",
        "colab": {}
      },
      "source": [
        ""
      ],
      "execution_count": 0,
      "outputs": []
    }
  ]
}