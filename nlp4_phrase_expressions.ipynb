{
  "nbformat": 4,
  "nbformat_minor": 0,
  "metadata": {
    "colab": {
      "name": "nlp4_phrase expressions",
      "provenance": []
    },
    "kernelspec": {
      "name": "python3",
      "display_name": "Python 3"
    }
  },
  "cells": [
    {
      "cell_type": "code",
      "metadata": {
        "id": "5PYQT70uJxBe",
        "colab_type": "code",
        "colab": {}
      },
      "source": [
        "text = 'My phone number is 111-222-333 , call me soon'"
      ],
      "execution_count": 0,
      "outputs": []
    },
    {
      "cell_type": "code",
      "metadata": {
        "id": "2FPl60mgMTkN",
        "colab_type": "code",
        "colab": {
          "base_uri": "https://localhost:8080/",
          "height": 34
        },
        "outputId": "626fe253-4879-42ee-fe39-e3f59fb77c6a"
      },
      "source": [
        "'call' in text"
      ],
      "execution_count": 2,
      "outputs": [
        {
          "output_type": "execute_result",
          "data": {
            "text/plain": [
              "True"
            ]
          },
          "metadata": {
            "tags": []
          },
          "execution_count": 2
        }
      ]
    },
    {
      "cell_type": "code",
      "metadata": {
        "id": "9FxHxU6sMtOj",
        "colab_type": "code",
        "colab": {}
      },
      "source": [
        "import re"
      ],
      "execution_count": 0,
      "outputs": []
    },
    {
      "cell_type": "code",
      "metadata": {
        "id": "6t_HP63sMxEb",
        "colab_type": "code",
        "colab": {}
      },
      "source": [
        "pattern = 'phone'"
      ],
      "execution_count": 0,
      "outputs": []
    },
    {
      "cell_type": "code",
      "metadata": {
        "id": "aacLViknSB5T",
        "colab_type": "code",
        "colab": {}
      },
      "source": [
        "match =  re.search(pattern,text)"
      ],
      "execution_count": 0,
      "outputs": []
    },
    {
      "cell_type": "code",
      "metadata": {
        "id": "7bqX8zGKSHTS",
        "colab_type": "code",
        "colab": {
          "base_uri": "https://localhost:8080/",
          "height": 34
        },
        "outputId": "be58f495-3f59-4be1-a419-1c8b63df1888"
      },
      "source": [
        "match.span()"
      ],
      "execution_count": 8,
      "outputs": [
        {
          "output_type": "execute_result",
          "data": {
            "text/plain": [
              "(3, 8)"
            ]
          },
          "metadata": {
            "tags": []
          },
          "execution_count": 8
        }
      ]
    },
    {
      "cell_type": "code",
      "metadata": {
        "id": "ypPer2aHSN1V",
        "colab_type": "code",
        "colab": {
          "base_uri": "https://localhost:8080/",
          "height": 34
        },
        "outputId": "0bad556c-3695-4eca-fcbe-6338816d894f"
      },
      "source": [
        "match.start()"
      ],
      "execution_count": 10,
      "outputs": [
        {
          "output_type": "execute_result",
          "data": {
            "text/plain": [
              "3"
            ]
          },
          "metadata": {
            "tags": []
          },
          "execution_count": 10
        }
      ]
    },
    {
      "cell_type": "code",
      "metadata": {
        "id": "bChVhLUQSani",
        "colab_type": "code",
        "colab": {}
      },
      "source": [
        "text1 = 'my phone is brand new phone'"
      ],
      "execution_count": 0,
      "outputs": []
    },
    {
      "cell_type": "code",
      "metadata": {
        "id": "LHDuZLaETSk0",
        "colab_type": "code",
        "colab": {}
      },
      "source": [
        "match_new = re.search(pattern,text1)"
      ],
      "execution_count": 0,
      "outputs": []
    },
    {
      "cell_type": "code",
      "metadata": {
        "id": "_4LF_C8ZTbPF",
        "colab_type": "code",
        "colab": {
          "base_uri": "https://localhost:8080/",
          "height": 34
        },
        "outputId": "4f58396f-ab89-4ef4-c057-30addcd61b06"
      },
      "source": [
        "match_new.span()"
      ],
      "execution_count": 13,
      "outputs": [
        {
          "output_type": "execute_result",
          "data": {
            "text/plain": [
              "(3, 8)"
            ]
          },
          "metadata": {
            "tags": []
          },
          "execution_count": 13
        }
      ]
    },
    {
      "cell_type": "code",
      "metadata": {
        "id": "i1rF9cvBThlg",
        "colab_type": "code",
        "colab": {}
      },
      "source": [
        "all_match = re.findall('phone',text1)"
      ],
      "execution_count": 0,
      "outputs": []
    },
    {
      "cell_type": "code",
      "metadata": {
        "id": "DdEEOC1bT4KJ",
        "colab_type": "code",
        "colab": {
          "base_uri": "https://localhost:8080/",
          "height": 50
        },
        "outputId": "e3a94cd4-6d58-492b-e5f1-90e8360b1146"
      },
      "source": [
        "for match in all_match:\n",
        "  print(match)"
      ],
      "execution_count": 16,
      "outputs": [
        {
          "output_type": "stream",
          "text": [
            "phone\n",
            "phone\n"
          ],
          "name": "stdout"
        }
      ]
    },
    {
      "cell_type": "code",
      "metadata": {
        "id": "-gi5ucZ-Ugty",
        "colab_type": "code",
        "colab": {}
      },
      "source": [
        "text = 'my phone number is 971-149-4505'"
      ],
      "execution_count": 0,
      "outputs": []
    },
    {
      "cell_type": "code",
      "metadata": {
        "id": "nhgHCWcfVwjW",
        "colab_type": "code",
        "colab": {}
      },
      "source": [
        "patter = r'\\d\\d\\d-\\d\\d\\d-\\d\\d\\d\\d'"
      ],
      "execution_count": 0,
      "outputs": []
    },
    {
      "cell_type": "code",
      "metadata": {
        "id": "E9EK9fNQWL6B",
        "colab_type": "code",
        "colab": {}
      },
      "source": [
        "ph = re.search(patter\n",
        "               ,text)"
      ],
      "execution_count": 0,
      "outputs": []
    },
    {
      "cell_type": "code",
      "metadata": {
        "id": "TNzDUicZWSxP",
        "colab_type": "code",
        "colab": {
          "base_uri": "https://localhost:8080/",
          "height": 34
        },
        "outputId": "74569dfc-853c-4acf-dab0-258676d68139"
      },
      "source": [
        "ph"
      ],
      "execution_count": 23,
      "outputs": [
        {
          "output_type": "execute_result",
          "data": {
            "text/plain": [
              "<_sre.SRE_Match object; span=(19, 31), match='971-149-4505'>"
            ]
          },
          "metadata": {
            "tags": []
          },
          "execution_count": 23
        }
      ]
    },
    {
      "cell_type": "code",
      "metadata": {
        "id": "9tpGpjpJWuCO",
        "colab_type": "code",
        "colab": {
          "base_uri": "https://localhost:8080/",
          "height": 34
        },
        "outputId": "93a201aa-d33e-4322-9e46-b38d917a64f6"
      },
      "source": [
        "ph.group()"
      ],
      "execution_count": 24,
      "outputs": [
        {
          "output_type": "execute_result",
          "data": {
            "text/plain": [
              "'971-149-4505'"
            ]
          },
          "metadata": {
            "tags": []
          },
          "execution_count": 24
        }
      ]
    },
    {
      "cell_type": "code",
      "metadata": {
        "id": "gX9Wh4HZW6Tj",
        "colab_type": "code",
        "colab": {}
      },
      "source": [
        "pat = r'\\d{3}-\\d{3}-\\d{4}'"
      ],
      "execution_count": 0,
      "outputs": []
    },
    {
      "cell_type": "code",
      "metadata": {
        "id": "wFKzQAz5Xzgr",
        "colab_type": "code",
        "colab": {}
      },
      "source": [
        "ph1 = re.search(pat,text)"
      ],
      "execution_count": 0,
      "outputs": []
    },
    {
      "cell_type": "code",
      "metadata": {
        "id": "riciGtFBX5Bh",
        "colab_type": "code",
        "colab": {
          "base_uri": "https://localhost:8080/",
          "height": 34
        },
        "outputId": "e20e77f0-40b6-496d-ef48-2921b1788be4"
      },
      "source": [
        "ph1.group()"
      ],
      "execution_count": 34,
      "outputs": [
        {
          "output_type": "execute_result",
          "data": {
            "text/plain": [
              "'971-149-4505'"
            ]
          },
          "metadata": {
            "tags": []
          },
          "execution_count": 34
        }
      ]
    },
    {
      "cell_type": "code",
      "metadata": {
        "id": "nuo2WWSCX6hm",
        "colab_type": "code",
        "colab": {}
      },
      "source": [
        "pat = r'(\\d{3})-(\\d{3})-(\\d{4})'"
      ],
      "execution_count": 0,
      "outputs": []
    },
    {
      "cell_type": "code",
      "metadata": {
        "id": "2QNNl5PvbixI",
        "colab_type": "code",
        "colab": {}
      },
      "source": [
        "o = re.search(pat,text)"
      ],
      "execution_count": 0,
      "outputs": []
    },
    {
      "cell_type": "code",
      "metadata": {
        "id": "hGFHRrtjbnAK",
        "colab_type": "code",
        "colab": {
          "base_uri": "https://localhost:8080/",
          "height": 34
        },
        "outputId": "17d6bf57-bdaf-47a6-ccc4-1d9365355dbe"
      },
      "source": [
        "o"
      ],
      "execution_count": 37,
      "outputs": [
        {
          "output_type": "execute_result",
          "data": {
            "text/plain": [
              "<_sre.SRE_Match object; span=(19, 31), match='971-149-4505'>"
            ]
          },
          "metadata": {
            "tags": []
          },
          "execution_count": 37
        }
      ]
    },
    {
      "cell_type": "code",
      "metadata": {
        "id": "3NpECOqvbrP0",
        "colab_type": "code",
        "colab": {
          "base_uri": "https://localhost:8080/",
          "height": 34
        },
        "outputId": "4d83842d-78cc-4c2d-db13-0be3f0097bf8"
      },
      "source": [
        "o.group(2)"
      ],
      "execution_count": 38,
      "outputs": [
        {
          "output_type": "execute_result",
          "data": {
            "text/plain": [
              "'149'"
            ]
          },
          "metadata": {
            "tags": []
          },
          "execution_count": 38
        }
      ]
    },
    {
      "cell_type": "code",
      "metadata": {
        "id": "8Suzdfl0b6XP",
        "colab_type": "code",
        "colab": {
          "base_uri": "https://localhost:8080/",
          "height": 34
        },
        "outputId": "895661c6-40ca-4429-f1e9-68e8e6d31beb"
      },
      "source": [
        "re.search(r'man|woman','this man is a good human')"
      ],
      "execution_count": 39,
      "outputs": [
        {
          "output_type": "execute_result",
          "data": {
            "text/plain": [
              "<_sre.SRE_Match object; span=(5, 8), match='man'>"
            ]
          },
          "metadata": {
            "tags": []
          },
          "execution_count": 39
        }
      ]
    },
    {
      "cell_type": "code",
      "metadata": {
        "id": "-H1JWiomcEnN",
        "colab_type": "code",
        "colab": {
          "base_uri": "https://localhost:8080/",
          "height": 34
        },
        "outputId": "9104a079-317d-4bec-d5e6-80c61e4920eb"
      },
      "source": [
        "#to deal with numbers in a string \n",
        "phrase = ' 5 numbers are 34 in the 78 places'\n",
        "re.findall(r'[\\d]',phrase)"
      ],
      "execution_count": 40,
      "outputs": [
        {
          "output_type": "execute_result",
          "data": {
            "text/plain": [
              "['5', '3', '4', '7', '8']"
            ]
          },
          "metadata": {
            "tags": []
          },
          "execution_count": 40
        }
      ]
    },
    {
      "cell_type": "code",
      "metadata": {
        "id": "IVqFJ7IOfGMk",
        "colab_type": "code",
        "colab": {
          "base_uri": "https://localhost:8080/",
          "height": 34
        },
        "outputId": "7346130d-6373-4637-b475-172c88fd7842"
      },
      "source": [
        "re.findall(r'[^\\d]+',phrase)"
      ],
      "execution_count": 42,
      "outputs": [
        {
          "output_type": "execute_result",
          "data": {
            "text/plain": [
              "[' ', ' numbers are ', ' in the ', ' places']"
            ]
          },
          "metadata": {
            "tags": []
          },
          "execution_count": 42
        }
      ]
    },
    {
      "cell_type": "code",
      "metadata": {
        "id": "ZSU4fRaUfUX7",
        "colab_type": "code",
        "colab": {}
      },
      "source": [
        "phrase2 = 'this is a string! and how to remove.punctuations?'"
      ],
      "execution_count": 0,
      "outputs": []
    },
    {
      "cell_type": "code",
      "metadata": {
        "id": "AGrl4REifpEa",
        "colab_type": "code",
        "colab": {
          "base_uri": "https://localhost:8080/",
          "height": 34
        },
        "outputId": "f49b7c06-b3d7-473a-f666-84fed6c24134"
      },
      "source": [
        "re.findall(r'[!.?]',phrase2)"
      ],
      "execution_count": 44,
      "outputs": [
        {
          "output_type": "execute_result",
          "data": {
            "text/plain": [
              "['!', '.', '?']"
            ]
          },
          "metadata": {
            "tags": []
          },
          "execution_count": 44
        }
      ]
    },
    {
      "cell_type": "code",
      "metadata": {
        "id": "8sOcJvHff1Mq",
        "colab_type": "code",
        "colab": {}
      },
      "source": [
        " mylist = re.findall(r'[^!.?]+',phrase2)"
      ],
      "execution_count": 0,
      "outputs": []
    },
    {
      "cell_type": "code",
      "metadata": {
        "id": "37Cr2uNvf9ea",
        "colab_type": "code",
        "colab": {
          "base_uri": "https://localhost:8080/",
          "height": 34
        },
        "outputId": "15e4ad0b-0a7d-445c-f63a-89515a66953f"
      },
      "source": [
        "''.join(mylist)"
      ],
      "execution_count": 47,
      "outputs": [
        {
          "output_type": "execute_result",
          "data": {
            "text/plain": [
              "'this is a string and how to removepunctuations'"
            ]
          },
          "metadata": {
            "tags": []
          },
          "execution_count": 47
        }
      ]
    },
    {
      "cell_type": "code",
      "metadata": {
        "id": "GZpGbmqkgGDf",
        "colab_type": "code",
        "colab": {}
      },
      "source": [
        ""
      ],
      "execution_count": 0,
      "outputs": []
    }
  ]
}