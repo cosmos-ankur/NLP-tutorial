{
  "nbformat": 4,
  "nbformat_minor": 0,
  "metadata": {
    "colab": {
      "name": "nlp6 spaCy.ipynb",
      "provenance": []
    },
    "kernelspec": {
      "name": "python3",
      "display_name": "Python 3"
    }
  },
  "cells": [
    {
      "cell_type": "code",
      "metadata": {
        "id": "HCs2HVQnhCnZ",
        "colab_type": "code",
        "colab": {}
      },
      "source": [
        "import spacy"
      ],
      "execution_count": 0,
      "outputs": []
    },
    {
      "cell_type": "code",
      "metadata": {
        "id": "djeXqCxRiAHb",
        "colab_type": "code",
        "colab": {}
      },
      "source": [
        "nlp = spacy.load('en_core_web_sm')"
      ],
      "execution_count": 0,
      "outputs": []
    },
    {
      "cell_type": "code",
      "metadata": {
        "id": "HT0zF-AUiqfc",
        "colab_type": "code",
        "colab": {}
      },
      "source": [
        "doc = nlp(u'Tesla is looking for buying U.S. based startup for $6 million')"
      ],
      "execution_count": 0,
      "outputs": []
    },
    {
      "cell_type": "code",
      "metadata": {
        "id": "K9KyD-9pi_kI",
        "colab_type": "code",
        "outputId": "7ba2846c-f6f2-4474-edd8-ff70decc57f2",
        "colab": {
          "base_uri": "https://localhost:8080/",
          "height": 218
        }
      },
      "source": [
        "for token in doc:\n",
        "  print(token.text,token.pos_,token.dep_)"
      ],
      "execution_count": 0,
      "outputs": [
        {
          "output_type": "stream",
          "text": [
            "Tesla PROPN nsubj\n",
            "is AUX aux\n",
            "looking VERB ROOT\n",
            "for ADP prep\n",
            "buying VERB pcomp\n",
            "U.S. PROPN dobj\n",
            "based VERB amod\n",
            "startup NOUN dobj\n",
            "for ADP prep\n",
            "$ SYM quantmod\n",
            "6 NUM compound\n",
            "million NUM pobj\n"
          ],
          "name": "stdout"
        }
      ]
    },
    {
      "cell_type": "code",
      "metadata": {
        "id": "cq_uGGLvjIjR",
        "colab_type": "code",
        "outputId": "68e07387-d850-4987-f120-656dc9d611c3",
        "colab": {
          "base_uri": "https://localhost:8080/",
          "height": 67
        }
      },
      "source": [
        "nlp.pipeline"
      ],
      "execution_count": 0,
      "outputs": [
        {
          "output_type": "execute_result",
          "data": {
            "text/plain": [
              "[('tagger', <spacy.pipeline.pipes.Tagger at 0x7fec7d050e10>),\n",
              " ('parser', <spacy.pipeline.pipes.DependencyParser at 0x7fec7cf25b88>),\n",
              " ('ner', <spacy.pipeline.pipes.EntityRecognizer at 0x7fec7cf25be8>)]"
            ]
          },
          "metadata": {
            "tags": []
          },
          "execution_count": 9
        }
      ]
    },
    {
      "cell_type": "code",
      "metadata": {
        "id": "VjIaiKYTkDa2",
        "colab_type": "code",
        "colab": {}
      },
      "source": [
        "txt2 = nlp(u'hey i am Ankur Singh')"
      ],
      "execution_count": 0,
      "outputs": []
    },
    {
      "cell_type": "code",
      "metadata": {
        "id": "0WR8QzGL4_Gt",
        "colab_type": "code",
        "colab": {
          "base_uri": "https://localhost:8080/",
          "height": 101
        },
        "outputId": "ce9286a8-d1d1-46c4-ae1d-ec5f40d66099"
      },
      "source": [
        "for token in txt2:\n",
        "  print(token.text,token.pos_,token.dep_)\n"
      ],
      "execution_count": 5,
      "outputs": [
        {
          "output_type": "stream",
          "text": [
            "hey INTJ intj\n",
            "i PRON nsubj\n",
            "am AUX ROOT\n",
            "Ankur PROPN compound\n",
            "Singh PROPN attr\n"
          ],
          "name": "stdout"
        }
      ]
    },
    {
      "cell_type": "code",
      "metadata": {
        "id": "LxSZFx9N5XNN",
        "colab_type": "code",
        "colab": {
          "base_uri": "https://localhost:8080/",
          "height": 34
        },
        "outputId": "f67ee10e-409f-452f-f101-0004d7fb976e"
      },
      "source": [
        "txt2[1].pos_"
      ],
      "execution_count": 9,
      "outputs": [
        {
          "output_type": "execute_result",
          "data": {
            "text/plain": [
              "'PRON'"
            ]
          },
          "metadata": {
            "tags": []
          },
          "execution_count": 9
        }
      ]
    },
    {
      "cell_type": "code",
      "metadata": {
        "id": "0Qw_BINF5gYL",
        "colab_type": "code",
        "colab": {}
      },
      "source": [
        "txt4 = nlp(u'this is first line.this is second line.this is third line .this is last line')"
      ],
      "execution_count": 0,
      "outputs": []
    },
    {
      "cell_type": "code",
      "metadata": {
        "id": "bH0BSFfK67xW",
        "colab_type": "code",
        "colab": {
          "base_uri": "https://localhost:8080/",
          "height": 67
        },
        "outputId": "e033c386-b63a-46bb-d1f5-028e62827a8f"
      },
      "source": [
        "for sentence in txt4.sents:\n",
        "  print(sentence)"
      ],
      "execution_count": 11,
      "outputs": [
        {
          "output_type": "stream",
          "text": [
            "this is first line.this is second\n",
            "line.this is third line\n",
            ".this is last line\n"
          ],
          "name": "stdout"
        }
      ]
    },
    {
      "cell_type": "code",
      "metadata": {
        "id": "cdX87pa_7PWA",
        "colab_type": "code",
        "colab": {}
      },
      "source": [
        ""
      ],
      "execution_count": 0,
      "outputs": []
    }
  ]
}