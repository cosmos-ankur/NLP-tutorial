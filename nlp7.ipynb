{
  "nbformat": 4,
  "nbformat_minor": 0,
  "metadata": {
    "colab": {
      "name": "nlp7",
      "provenance": []
    },
    "kernelspec": {
      "name": "python3",
      "display_name": "Python 3"
    }
  },
  "cells": [
    {
      "cell_type": "code",
      "metadata": {
        "id": "KsLCmb4tWkMx",
        "colab_type": "code",
        "colab": {}
      },
      "source": [
        "#stemming - finding root word from main word to find meaning"
      ],
      "execution_count": 0,
      "outputs": []
    },
    {
      "cell_type": "code",
      "metadata": {
        "id": "yXWkjgCOYQTG",
        "colab_type": "code",
        "colab": {}
      },
      "source": [
        "import nltk"
      ],
      "execution_count": 0,
      "outputs": []
    },
    {
      "cell_type": "code",
      "metadata": {
        "id": "SCRvVOHccIJb",
        "colab_type": "code",
        "colab": {}
      },
      "source": [
        "from nltk.stem.porter import PorterStemmer"
      ],
      "execution_count": 0,
      "outputs": []
    },
    {
      "cell_type": "code",
      "metadata": {
        "id": "3s9eRYiacUpu",
        "colab_type": "code",
        "colab": {}
      },
      "source": [
        "p_stem = PorterStemmer()"
      ],
      "execution_count": 0,
      "outputs": []
    },
    {
      "cell_type": "code",
      "metadata": {
        "id": "qjs6L8zYcXGW",
        "colab_type": "code",
        "colab": {}
      },
      "source": [
        "words = ['run','runner','easily','fairly','running']"
      ],
      "execution_count": 0,
      "outputs": []
    },
    {
      "cell_type": "code",
      "metadata": {
        "id": "8eIQNsSmcmNU",
        "colab_type": "code",
        "colab": {
          "base_uri": "https://localhost:8080/",
          "height": 101
        },
        "outputId": "dfcbda02-13c2-4e4c-863a-55cb67419a7e"
      },
      "source": [
        "for word in words:\n",
        "  print(word+'--------->'+p_stem.stem(word))"
      ],
      "execution_count": 6,
      "outputs": [
        {
          "output_type": "stream",
          "text": [
            "run--------->run\n",
            "runner--------->runner\n",
            "easily--------->easili\n",
            "fairly--------->fairli\n",
            "running--------->run\n"
          ],
          "name": "stdout"
        }
      ]
    },
    {
      "cell_type": "code",
      "metadata": {
        "id": "g-LW_x9gcpAy",
        "colab_type": "code",
        "colab": {}
      },
      "source": [
        "from nltk.stem.snowball import SnowballStemmer"
      ],
      "execution_count": 0,
      "outputs": []
    },
    {
      "cell_type": "code",
      "metadata": {
        "id": "LusW-2bgdDg_",
        "colab_type": "code",
        "colab": {}
      },
      "source": [
        "s_stem = SnowballStemmer(language='english')"
      ],
      "execution_count": 0,
      "outputs": []
    },
    {
      "cell_type": "code",
      "metadata": {
        "id": "L1pXWJKVdL8d",
        "colab_type": "code",
        "colab": {
          "base_uri": "https://localhost:8080/",
          "height": 101
        },
        "outputId": "60e38166-b0fc-4ff0-9cc5-725b91d48ffe"
      },
      "source": [
        "for word in words:\n",
        "  print(word+'--------->'+s_stem.stem(word))"
      ],
      "execution_count": 9,
      "outputs": [
        {
          "output_type": "stream",
          "text": [
            "run--------->run\n",
            "runner--------->runner\n",
            "easily--------->easili\n",
            "fairly--------->fair\n",
            "running--------->run\n"
          ],
          "name": "stdout"
        }
      ]
    },
    {
      "cell_type": "code",
      "metadata": {
        "id": "KtkgIprHdQxN",
        "colab_type": "code",
        "colab": {}
      },
      "source": [
        "wor = ['generation','generous','generate','generously']"
      ],
      "execution_count": 0,
      "outputs": []
    },
    {
      "cell_type": "code",
      "metadata": {
        "id": "Hff6NUL0dovx",
        "colab_type": "code",
        "colab": {
          "base_uri": "https://localhost:8080/",
          "height": 84
        },
        "outputId": "00e4bb93-a122-4038-eb38-f94bb6a3f239"
      },
      "source": [
        "for word in wor:\n",
        "  print(word+'--------->'+s_stem.stem(word))"
      ],
      "execution_count": 11,
      "outputs": [
        {
          "output_type": "stream",
          "text": [
            "generation--------->generat\n",
            "generous--------->generous\n",
            "generate--------->generat\n",
            "generously--------->generous\n"
          ],
          "name": "stdout"
        }
      ]
    },
    {
      "cell_type": "code",
      "metadata": {
        "id": "Ny9oNgn0dvnc",
        "colab_type": "code",
        "colab": {}
      },
      "source": [
        ""
      ],
      "execution_count": 0,
      "outputs": []
    }
  ]
}