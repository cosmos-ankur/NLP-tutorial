{
  "nbformat": 4,
  "nbformat_minor": 0,
  "metadata": {
    "colab": {
      "name": "nlp8_lemmatization",
      "provenance": []
    },
    "kernelspec": {
      "name": "python3",
      "display_name": "Python 3"
    }
  },
  "cells": [
    {
      "cell_type": "code",
      "metadata": {
        "id": "PocmOlkdeHu0",
        "colab_type": "code",
        "colab": {}
      },
      "source": [
        "import spacy"
      ],
      "execution_count": 0,
      "outputs": []
    },
    {
      "cell_type": "code",
      "metadata": {
        "id": "G3x8Ffb9eXTg",
        "colab_type": "code",
        "colab": {}
      },
      "source": [
        "nlp = spacy.load('en_core_web_sm')"
      ],
      "execution_count": 0,
      "outputs": []
    },
    {
      "cell_type": "code",
      "metadata": {
        "id": "fWQ9nHtFfnfa",
        "colab_type": "code",
        "colab": {}
      },
      "source": [
        "doc1 = nlp(u'i am a runner running in a race because i love to run since i ran this morning ')"
      ],
      "execution_count": 0,
      "outputs": []
    },
    {
      "cell_type": "code",
      "metadata": {
        "id": "aJaOxUNCg24O",
        "colab_type": "code",
        "colab": {
          "base_uri": "https://localhost:8080/",
          "height": 319
        },
        "outputId": "b0a55438-af0d-4ee9-e168-93e6da031b73"
      },
      "source": [
        "for token in doc1:\n",
        "  print(token.text,'\\t',token.pos_,'\\t',token.lemma,'\\t',token.lemma_)"
      ],
      "execution_count": 4,
      "outputs": [
        {
          "output_type": "stream",
          "text": [
            "i \t PRON \t 5097672513440128799 \t i\n",
            "am \t AUX \t 10382539506755952630 \t be\n",
            "a \t DET \t 11901859001352538922 \t a\n",
            "runner \t NOUN \t 12640964157389618806 \t runner\n",
            "running \t VERB \t 12767647472892411841 \t run\n",
            "in \t ADP \t 3002984154512732771 \t in\n",
            "a \t DET \t 11901859001352538922 \t a\n",
            "race \t NOUN \t 8048469955494714898 \t race\n",
            "because \t SCONJ \t 16950148841647037698 \t because\n",
            "i \t PRON \t 5097672513440128799 \t i\n",
            "love \t VERB \t 3702023516439754181 \t love\n",
            "to \t PART \t 3791531372978436496 \t to\n",
            "run \t VERB \t 12767647472892411841 \t run\n",
            "since \t SCONJ \t 10066841407251338481 \t since\n",
            "i \t PRON \t 5097672513440128799 \t i\n",
            "ran \t VERB \t 12767647472892411841 \t run\n",
            "this \t DET \t 1995909169258310477 \t this\n",
            "morning \t NOUN \t 128801579471171342 \t morning\n"
          ],
          "name": "stdout"
        }
      ]
    },
    {
      "cell_type": "code",
      "metadata": {
        "id": "OTwXmL9ThXqr",
        "colab_type": "code",
        "colab": {}
      },
      "source": [
        "def show_lemma(text):\n",
        "  print token in text"
      ],
      "execution_count": 0,
      "outputs": []
    }
  ]
}